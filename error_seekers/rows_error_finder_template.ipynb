{
 "cells": [
  {
   "cell_type": "code",
   "execution_count": 3,
   "metadata": {},
   "outputs": [],
   "source": [
    "# It creates Dataframe for every row\n",
    "# and display which row has problem\n",
    "import pandas as pd\n",
    "import numpy as np\n",
    "from sqlalchemy import (Numeric, create_engine, Table, Column, \n",
    "                        Integer, String, MetaData, Float, Date, \n",
    "                        Time, SmallInteger, Text)"
   ]
  },
  {
   "cell_type": "code",
   "execution_count": 4,
   "metadata": {},
   "outputs": [],
   "source": [
    "def inspect_row_error(path):\n",
    "    print(path)\n",
    "#     encoding='iso8859' encoding='cp1252'\n",
    "    df = (\n",
    "            pd\n",
    "             .read_csv(\n",
    "                       path,\n",
    "                       dtype={\n",
    "                           \"Schd Time Start\" : str,\n",
    "                           \"PO\": str,\n",
    "                           \"Route number\" : str},\n",
    "                       encoding='iso8859')\n",
    "    )\n",
    "    \n",
    "    df[\"Date\"] = pd.to_datetime(df[\"Date\"], format='%d/%m/%y')\n",
    "    df[['Route number', 'Weekday']] = df['Route number'].str.split('-', 1, expand=True)\n",
    "    \n",
    "    db = \"STAGE_TABLES_DB_1\"\n",
    "    sch = \"ITERATE_SEEK_ERROR\"\n",
    "    tablename = \"error_1\"\n",
    "    \n",
    "    status = \"append\"\n",
    "    \n",
    "    user = \"SA\"\n",
    "    pwd = \"ploi?H8597\"\n",
    "    db = \"STAGE_TABLES_DB_1\"\n",
    "    server = \"gordonswsmaster\"\n",
    "    driver = \"ODBC+Driver+17+for+SQL+Server\"\n",
    "    engine_str = f\"mssql+pyodbc://{user}:{pwd}@{server}/{db}?driver={driver}\"\n",
    "    engine = create_engine(engine_str)\n",
    "    \n",
    "    df_shape = df.shape\n",
    "    num_row = df_shape[0]\n",
    "    \n",
    "    for i in range(num_row):\n",
    "        try:\n",
    "            df_1 = df.iloc[[i]]\n",
    "            df_1.to_sql(name=tablename, con=engine, schema=sch, if_exists=status, dtype={\n",
    "                'Job No': Numeric(20, 5),\n",
    "                'Date': Date(),\n",
    "                'Schd Time Start': String(length=350),\n",
    "                'Schd Time End': String(length=350),\n",
    "                'Latitude': Numeric(20, 7),\n",
    "                'Longitude': Numeric(20, 7),\n",
    "                'Customer number': Numeric(20, 5),\n",
    "                'Customer Name': String(length=800),\n",
    "                'Site Name': String(length=800),\n",
    "                'Address 1': String(length=1200),\n",
    "                'Address 2': String(length=1200),\n",
    "                'City': String(length=500),\n",
    "                'State': String(length=30),\n",
    "                'PostCode': Integer(),\n",
    "                'Zone': String(length=500),\n",
    "                'Phone': String(length=600),\n",
    "                'Qty Scheduled': SmallInteger(),\n",
    "                'Qty Serviced': SmallInteger(),\n",
    "                'Serv Type': String(length=600),\n",
    "                'Container Type': String(length=20),\n",
    "                'Bin Volume': Float(precision=5),\n",
    "                'Status': String(length=5),\n",
    "                'Truck number': String(length=50),\n",
    "                'Route number': String(length=50),\n",
    "                'Generate ID': String(length=500),\n",
    "                'Initial Entry Date': String(length=350),\n",
    "                'Weight': Float(precision=5),\n",
    "                'Prorated Weight': Float(precision=5),\n",
    "                'Booking Reference 1': String(length=200),\n",
    "                'Booking Reference 2': String(length=200),\n",
    "                'Alternate Ref No 1': String(length=200),\n",
    "                'Alternate Ref No 2': String(length=200),\n",
    "                'Alternate Service Ref 1': String(length=200),\n",
    "                'Alternate Service Ref 2': String(length=200),\n",
    "                'Notes': Text(length=8000),\n",
    "                'Directions': Text(length=8000),\n",
    "                'CheckLists': String(length=300),\n",
    "                'Waste Type': String(length=350),\n",
    "                'Tip Site': String(length=450),\n",
    "                'Price': Numeric(8, 3),\n",
    "                'PO': String(length=200)\n",
    "            })\n",
    "        \n",
    "        except Exception:\n",
    "            print(Exception)\n",
    "            print(df_1['Job No'])\n",
    "            \n",
    "    "
   ]
  },
  {
   "cell_type": "code",
   "execution_count": 5,
   "metadata": {},
   "outputs": [
    {
     "name": "stdout",
     "output_type": "stream",
     "text": [
      "/media/sf_ubuntuShareDrive/Datasets/test_db/Large_error_ds/13.csv\n",
      "/media/sf_ubuntuShareDrive/Datasets/test_db/Large_error_ds/14.csv\n",
      "/media/sf_ubuntuShareDrive/Datasets/test_db/Large_error_ds/15.csv\n",
      "/media/sf_ubuntuShareDrive/Datasets/test_db/Large_error_ds/16.csv\n",
      "/media/sf_ubuntuShareDrive/Datasets/test_db/Large_error_ds/17.csv\n",
      "/media/sf_ubuntuShareDrive/Datasets/test_db/Large_error_ds/18.csv\n",
      "/media/sf_ubuntuShareDrive/Datasets/test_db/Large_error_ds/19.csv\n",
      "/media/sf_ubuntuShareDrive/Datasets/test_db/Large_error_ds/20.csv\n",
      "<class 'Exception'>\n",
      "5876    1754260.0\n",
      "Name: Job No, dtype: float64\n"
     ]
    }
   ],
   "source": [
    "PATH_13 = f\"/media/sf_ubuntuShareDrive/Datasets/test_db/Large_error_ds/13.csv\"\n",
    "PATH_14 = f\"/media/sf_ubuntuShareDrive/Datasets/test_db/Large_error_ds/14.csv\"\n",
    "PATH_15 = f\"/media/sf_ubuntuShareDrive/Datasets/test_db/Large_error_ds/15.csv\"\n",
    "PATH_16 = f\"/media/sf_ubuntuShareDrive/Datasets/test_db/Large_error_ds/16.csv\"\n",
    "PATH_17 = f\"/media/sf_ubuntuShareDrive/Datasets/test_db/Large_error_ds/17.csv\"\n",
    "PATH_18 = f\"/media/sf_ubuntuShareDrive/Datasets/test_db/Large_error_ds/18.csv\"\n",
    "PATH_19 = f\"/media/sf_ubuntuShareDrive/Datasets/test_db/Large_error_ds/19.csv\"\n",
    "PATH_20 = f\"/media/sf_ubuntuShareDrive/Datasets/test_db/Large_error_ds/20.csv\"\n",
    "\n",
    "inspect_row_error(PATH_13)\n",
    "inspect_row_error(PATH_14)\n",
    "inspect_row_error(PATH_15)\n",
    "inspect_row_error(PATH_16)\n",
    "inspect_row_error(PATH_17)\n",
    "inspect_row_error(PATH_18)\n",
    "inspect_row_error(PATH_19)\n",
    "inspect_row_error(PATH_20)\n"
   ]
  },
  {
   "cell_type": "code",
   "execution_count": null,
   "metadata": {},
   "outputs": [],
   "source": []
  },
  {
   "cell_type": "code",
   "execution_count": null,
   "metadata": {},
   "outputs": [],
   "source": []
  },
  {
   "cell_type": "code",
   "execution_count": null,
   "metadata": {},
   "outputs": [],
   "source": []
  },
  {
   "cell_type": "code",
   "execution_count": null,
   "metadata": {},
   "outputs": [],
   "source": []
  },
  {
   "cell_type": "code",
   "execution_count": null,
   "metadata": {},
   "outputs": [],
   "source": []
  },
  {
   "cell_type": "code",
   "execution_count": null,
   "metadata": {},
   "outputs": [],
   "source": []
  }
 ],
 "metadata": {
  "kernelspec": {
   "display_name": "Python 3",
   "language": "python",
   "name": "python3"
  },
  "language_info": {
   "codemirror_mode": {
    "name": "ipython",
    "version": 3
   },
   "file_extension": ".py",
   "mimetype": "text/x-python",
   "name": "python",
   "nbconvert_exporter": "python",
   "pygments_lexer": "ipython3",
   "version": "3.8.5"
  }
 },
 "nbformat": 4,
 "nbformat_minor": 4
}
