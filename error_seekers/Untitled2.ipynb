{
 "cells": [
  {
   "cell_type": "code",
   "execution_count": 1,
   "metadata": {},
   "outputs": [],
   "source": [
    "import pandas as pd\n",
    "import numpy as np\n",
    "from sqlalchemy import (Numeric, create_engine, Table, Column, \n",
    "                        Integer, String, MetaData, Float, Date, \n",
    "                        Time, SmallInteger, Text)"
   ]
  },
  {
   "cell_type": "code",
   "execution_count": 2,
   "metadata": {},
   "outputs": [],
   "source": [
    "def inspect_row_error(path):\n",
    "    print(path)\n",
    "#     encoding='iso8859' encoding='cp1252'\n",
    "    df = (\n",
    "            pd\n",
    "             .read_csv(\n",
    "                       path,\n",
    "                       dtype={\n",
    "                           \"Schd Time Start\" : str,\n",
    "                           \"PO\": str,\n",
    "                           \"Route number\" : str},\n",
    "                       encoding='iso8859')\n",
    "    )\n",
    "    \n",
    "    df[\"Date\"] = pd.to_datetime(df[\"Date\"], format='%d/%m/%y')\n",
    "    df[['Route number', 'Weekday']] = df['Route number'].str.split('-', 1, expand=True)\n",
    "    \n",
    "    db = \"STAGE_TABLES_DB_1\"\n",
    "    sch = \"BOOKING\"\n",
    "    tablename = \"STAGE_TABLE_1\"\n",
    "    \n",
    "    status = \"append\"\n",
    "    \n",
    "    user = \"SA\"\n",
    "    pwd = \"ploi?H8597\"\n",
    "    db = \"STAGE_TABLES_DB_1\"\n",
    "    server = \"gordonswsmaster\"\n",
    "    driver = \"ODBC+Driver+17+for+SQL+Server\"\n",
    "    engine_str = f\"mssql+pyodbc://{user}:{pwd}@{server}/{db}?driver={driver}\"\n",
    "    engine = create_engine(engine_str)\n",
    "    \n",
    "#     df_shape = df.shape\n",
    "#     num_row = df_shape[0]\n",
    "    \n",
    "    try:\n",
    "#             df_1 = df.iloc[[i]]\n",
    "            df.to_sql(name=tablename, con=engine, schema=sch, if_exists=status, dtype={\n",
    "                'Job No': Numeric(20, 5),\n",
    "                'Date': Date(),\n",
    "                'Schd Time Start': String(length=350),\n",
    "                'Schd Time End': String(length=350),\n",
    "                'Latitude': Numeric(20, 7),\n",
    "                'Longitude': Numeric(20, 7),\n",
    "                'Customer number': Numeric(20, 5),\n",
    "                'Customer Name': String(length=800),\n",
    "                'Site Name': String(length=800),\n",
    "                'Address 1': String(length=1200),\n",
    "                'Address 2': String(length=1200),\n",
    "                'City': String(length=500),\n",
    "                'State': String(length=30),\n",
    "                'PostCode': Integer(),\n",
    "                'Zone': String(length=500),\n",
    "                'Phone': String(length=600),\n",
    "                'Qty Scheduled': SmallInteger(),\n",
    "                'Qty Serviced': SmallInteger(),\n",
    "                'Serv Type': String(length=600),\n",
    "                'Container Type': String(length=20),\n",
    "                'Bin Volume': Float(precision=5),\n",
    "                'Status': String(length=5),\n",
    "                'Truck number': String(length=50),\n",
    "                'Route number': String(length=50),\n",
    "                'Generate ID': String(length=500),\n",
    "                'Initial Entry Date': String(length=350),\n",
    "                'Weight': Float(precision=5),\n",
    "                'Prorated Weight': Float(precision=5),\n",
    "                'Booking Reference 1': String(length=200),\n",
    "                'Booking Reference 2': String(length=200),\n",
    "                'Alternate Ref No 1': String(length=200),\n",
    "                'Alternate Ref No 2': String(length=200),\n",
    "                'Alternate Service Ref 1': String(length=200),\n",
    "                'Alternate Service Ref 2': String(length=200),\n",
    "                'Notes': Text(length=8000),\n",
    "                'Directions': Text(length=8000),\n",
    "                'CheckLists': String(length=300),\n",
    "                'Waste Type': String(length=350),\n",
    "                'Tip Site': String(length=450),\n",
    "                'Price': Numeric(8, 3),\n",
    "                'PO': String(length=200)\n",
    "            })\n",
    "        \n",
    "    except Exception:\n",
    "        print(Exception)\n",
    "        print(df_1['Job No'])\n",
    "    "
   ]
  },
  {
   "cell_type": "code",
   "execution_count": 3,
   "metadata": {},
   "outputs": [
    {
     "name": "stdout",
     "output_type": "stream",
     "text": [
      "/media/sf_ubuntuShareDrive/Datasets/test_db/Large_error_ds/21.csv\n",
      "/media/sf_ubuntuShareDrive/Datasets/test_db/Large_error_ds/22.csv\n",
      "/media/sf_ubuntuShareDrive/Datasets/test_db/Large_error_ds/23.csv\n",
      "/media/sf_ubuntuShareDrive/Datasets/test_db/Large_error_ds/24.csv\n",
      "/media/sf_ubuntuShareDrive/Datasets/test_db/Large_error_ds/25.csv\n",
      "/media/sf_ubuntuShareDrive/Datasets/test_db/Large_error_ds/26.csv\n",
      "/media/sf_ubuntuShareDrive/Datasets/test_db/Large_error_ds/27.csv\n",
      "/media/sf_ubuntuShareDrive/Datasets/test_db/Large_error_ds/28.csv\n",
      "/media/sf_ubuntuShareDrive/Datasets/test_db/Large_error_ds/29.csv\n"
     ]
    }
   ],
   "source": [
    "PATH_21 = f\"/media/sf_ubuntuShareDrive/Datasets/test_db/Large_error_ds/21.csv\"\n",
    "PATH_22 = f\"/media/sf_ubuntuShareDrive/Datasets/test_db/Large_error_ds/22.csv\"\n",
    "PATH_23 = f\"/media/sf_ubuntuShareDrive/Datasets/test_db/Large_error_ds/23.csv\"\n",
    "PATH_24 = f\"/media/sf_ubuntuShareDrive/Datasets/test_db/Large_error_ds/24.csv\"\n",
    "PATH_25 = f\"/media/sf_ubuntuShareDrive/Datasets/test_db/Large_error_ds/25.csv\"\n",
    "PATH_26 = f\"/media/sf_ubuntuShareDrive/Datasets/test_db/Large_error_ds/26.csv\"\n",
    "PATH_27 = f\"/media/sf_ubuntuShareDrive/Datasets/test_db/Large_error_ds/27.csv\"\n",
    "PATH_28 = f\"/media/sf_ubuntuShareDrive/Datasets/test_db/Large_error_ds/28.csv\"\n",
    "PATH_29 = f\"/media/sf_ubuntuShareDrive/Datasets/test_db/Large_error_ds/29.csv\"\n",
    "\n",
    "inspect_row_error(PATH_21)\n",
    "inspect_row_error(PATH_22)\n",
    "inspect_row_error(PATH_23)\n",
    "inspect_row_error(PATH_24)\n",
    "inspect_row_error(PATH_25)\n",
    "inspect_row_error(PATH_26)\n",
    "inspect_row_error(PATH_27)\n",
    "inspect_row_error(PATH_28)\n",
    "inspect_row_error(PATH_29)\n",
    "\n"
   ]
  },
  {
   "cell_type": "code",
   "execution_count": 8,
   "metadata": {},
   "outputs": [
    {
     "data": {
      "text/plain": [
       "Index(['Job No', 'Date', 'Schd Time Start', 'Schd Time End', 'Latitude',\n",
       "       'Longitude', 'Customer number', 'Customer Name', 'Site Name',\n",
       "       'Address 1', 'Address 2', 'City', 'State', 'PostCode', 'Zone', 'Phone',\n",
       "       'Qty Scheduled', 'Qty Serviced', 'Serv Type', 'Container Type',\n",
       "       'Bin Volume', 'Status', 'Truck number', 'Route number', 'Generate ID',\n",
       "       'Initial Entry Date', 'Weight', 'Prorated Weight',\n",
       "       'Booking Reference 1', 'Booking Reference 2', 'Alternate Ref No 1',\n",
       "       'Alternate Ref No 2', 'Alternate Service Ref 1',\n",
       "       'Alternate Service Ref 2', 'Notes', 'Directions', 'CheckLists',\n",
       "       'Waste Type', 'Tip Site', 'Price', 'PO'],\n",
       "      dtype='object')"
      ]
     },
     "execution_count": 8,
     "metadata": {},
     "output_type": "execute_result"
    }
   ],
   "source": [
    "PATH_29 = f\"/media/sf_ubuntuShareDrive/Datasets/test_db/Large_5.csv\"\n",
    "\n",
    "df = (\n",
    "        pd\n",
    "         .read_csv(\n",
    "                   PATH_29,\n",
    "                   dtype={\n",
    "                       \"Schd Time Start\" : str,\n",
    "                       \"PO\": str,\n",
    "                       \"Route number\" : str},\n",
    "                   encoding='iso8859')\n",
    ")\n",
    "\n",
    "\n",
    "df.columns\n"
   ]
  },
  {
   "cell_type": "code",
   "execution_count": 13,
   "metadata": {},
   "outputs": [
    {
     "data": {
      "text/html": [
       "<div>\n",
       "<style scoped>\n",
       "    .dataframe tbody tr th:only-of-type {\n",
       "        vertical-align: middle;\n",
       "    }\n",
       "\n",
       "    .dataframe tbody tr th {\n",
       "        vertical-align: top;\n",
       "    }\n",
       "\n",
       "    .dataframe thead th {\n",
       "        text-align: right;\n",
       "    }\n",
       "</style>\n",
       "<table border=\"1\" class=\"dataframe\">\n",
       "  <thead>\n",
       "    <tr style=\"text-align: right;\">\n",
       "      <th></th>\n",
       "      <th>Qty Serviced</th>\n",
       "      <th>Serv Type</th>\n",
       "      <th>Customer number</th>\n",
       "      <th>Customer Name</th>\n",
       "    </tr>\n",
       "  </thead>\n",
       "  <tbody>\n",
       "    <tr>\n",
       "      <th>214776</th>\n",
       "      <td>5999</td>\n",
       "      <td>COL</td>\n",
       "      <td>3726.0</td>\n",
       "      <td>Meriton Property Services - Centrium Building</td>\n",
       "    </tr>\n",
       "  </tbody>\n",
       "</table>\n",
       "</div>"
      ],
      "text/plain": [
       "        Qty Serviced Serv Type  Customer number  \\\n",
       "214776          5999       COL           3726.0   \n",
       "\n",
       "                                        Customer Name  \n",
       "214776  Meriton Property Services - Centrium Building  "
      ]
     },
     "execution_count": 13,
     "metadata": {},
     "output_type": "execute_result"
    }
   ],
   "source": [
    "s_df = df.loc[df['Job No'] == 1754260]\n",
    "s_df[['Qty Serviced', 'Serv Type', 'Customer number', 'Customer Name']]"
   ]
  }
 ],
 "metadata": {
  "kernelspec": {
   "display_name": "Python 3",
   "language": "python",
   "name": "python3"
  },
  "language_info": {
   "codemirror_mode": {
    "name": "ipython",
    "version": 3
   },
   "file_extension": ".py",
   "mimetype": "text/x-python",
   "name": "python",
   "nbconvert_exporter": "python",
   "pygments_lexer": "ipython3",
   "version": "3.8.5"
  }
 },
 "nbformat": 4,
 "nbformat_minor": 4
}
