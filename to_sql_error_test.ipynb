{
 "cells": [
  {
   "cell_type": "code",
   "execution_count": 4,
   "metadata": {},
   "outputs": [],
   "source": [
    "import pandas as pd\n",
    "import numpy as np\n",
    "from sqlalchemy import (Numeric, create_engine, Table, Column, \n",
    "                        Integer, String, MetaData, Float, Date, \n",
    "                        Time, SmallInteger, Text)"
   ]
  },
  {
   "cell_type": "code",
   "execution_count": 10,
   "metadata": {},
   "outputs": [],
   "source": [
    "user = \"SA\"\n",
    "pwd = \"ploi?H8597\"\n",
    "db = \"STAGE_TABLES_DB_1\"\n",
    "server = \"gordonswsmaster\"\n",
    "driver = \"ODBC+Driver+17+for+SQL+Server\"\n",
    "engine_str = f\"mssql+pyodbc://{user}:{pwd}@{server}/{db}?driver={driver}\"\n",
    "engine = create_engine(engine_str)"
   ]
  },
  {
   "cell_type": "markdown",
   "metadata": {},
   "source": [
    "('22003', '[22003] [Microsoft][ODBC Driver 17 for SQL Server][SQL Server]\n",
    "Arithmetic overflow error converting float to data type numeric. (8115) (SQLExecDirectW)')"
   ]
  },
  {
   "cell_type": "code",
   "execution_count": 41,
   "metadata": {
    "scrolled": true
   },
   "outputs": [
    {
     "data": {
      "text/html": [
       "<div>\n",
       "<style scoped>\n",
       "    .dataframe tbody tr th:only-of-type {\n",
       "        vertical-align: middle;\n",
       "    }\n",
       "\n",
       "    .dataframe tbody tr th {\n",
       "        vertical-align: top;\n",
       "    }\n",
       "\n",
       "    .dataframe thead th {\n",
       "        text-align: right;\n",
       "    }\n",
       "</style>\n",
       "<table border=\"1\" class=\"dataframe\">\n",
       "  <thead>\n",
       "    <tr style=\"text-align: right;\">\n",
       "      <th></th>\n",
       "      <th>c1</th>\n",
       "      <th>c2</th>\n",
       "      <th>c3</th>\n",
       "    </tr>\n",
       "  </thead>\n",
       "  <tbody>\n",
       "    <tr>\n",
       "      <th>0</th>\n",
       "      <td>2616168</td>\n",
       "      <td>4.dfgf36</td>\n",
       "      <td>2</td>\n",
       "    </tr>\n",
       "    <tr>\n",
       "      <th>1</th>\n",
       "      <td>2616172</td>\n",
       "      <td>6</td>\n",
       "      <td>3</td>\n",
       "    </tr>\n",
       "    <tr>\n",
       "      <th>2</th>\n",
       "      <td>2616128</td>\n",
       "      <td>8</td>\n",
       "      <td>6</td>\n",
       "    </tr>\n",
       "  </tbody>\n",
       "</table>\n",
       "</div>"
      ],
      "text/plain": [
       "        c1        c2  c3\n",
       "0  2616168  4.dfgf36   2\n",
       "1  2616172         6   3\n",
       "2  2616128         8   6"
      ]
     },
     "execution_count": 41,
     "metadata": {},
     "output_type": "execute_result"
    }
   ],
   "source": [
    "PATH = '/media/sf_ubuntuShareDrive/Datasets/test_db/error2.csv'\n",
    "init_data = pd.read_csv(PATH)\n",
    "init_data"
   ]
  },
  {
   "cell_type": "code",
   "execution_count": 43,
   "metadata": {},
   "outputs": [],
   "source": [
    "# init_data.to_sql(name=\"ERROR_1\", con=engine, schema=\"TEST_ERROR_SCH\", if_exists=\"append\", dtype={\n",
    "#     'c1': Integer(),\n",
    "#     'c2': Integer(),\n",
    "#     'c3': Numeric(5, 2)\n",
    "# })\n"
   ]
  },
  {
   "cell_type": "code",
   "execution_count": null,
   "metadata": {},
   "outputs": [],
   "source": [
    "with engine.connect() as connection:\n",
    "    result = connection.execute(\"select username from users\")\n",
    "    for row in result:\n",
    "        print(\"username:\", row['username'])        "
   ]
  },
  {
   "cell_type": "code",
   "execution_count": null,
   "metadata": {},
   "outputs": [],
   "source": []
  }
 ],
 "metadata": {
  "kernelspec": {
   "display_name": "Python 3",
   "language": "python",
   "name": "python3"
  },
  "language_info": {
   "codemirror_mode": {
    "name": "ipython",
    "version": 3
   },
   "file_extension": ".py",
   "mimetype": "text/x-python",
   "name": "python",
   "nbconvert_exporter": "python",
   "pygments_lexer": "ipython3",
   "version": "3.8.5"
  }
 },
 "nbformat": 4,
 "nbformat_minor": 4
}
