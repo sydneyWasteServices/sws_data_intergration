{
 "cells": [
  {
   "cell_type": "code",
   "execution_count": 5,
   "metadata": {},
   "outputs": [],
   "source": [
    "import pandas as pd\n",
    "import numpy as np\n",
    "from sqlalchemy import (Numeric, create_engine, Table, Column, \n",
    "                        Integer, String, MetaData, Float, Date, \n",
    "                        Time, SmallInteger, Text)"
   ]
  },
  {
   "cell_type": "code",
   "execution_count": 6,
   "metadata": {},
   "outputs": [],
   "source": [
    "def inspect_row_error(path):\n",
    "    print(path)\n",
    "#     encoding='iso8859' encoding='cp1252'\n",
    "    df = (\n",
    "            pd\n",
    "             .read_csv(\n",
    "                       path,\n",
    "                       dtype={\n",
    "                           \"Schd Time Start\" : str,\n",
    "                           \"PO\": str,\n",
    "                           \"Route number\" : str},\n",
    "                       encoding='iso8859')\n",
    "    )\n",
    "    \n",
    "    df[\"Date\"] = pd.to_datetime(df[\"Date\"], format='%d/%m/%y')\n",
    "    df[['Route number', 'Weekday']] = df['Route number'].str.split('-', 1, expand=True)\n",
    "    \n",
    "    db = \"STAGE_TABLES_DB_1\"\n",
    "    sch = \"ITERATE_SEEK_ERROR\"\n",
    "    tablename = \"error_1\"\n",
    "    \n",
    "    status = \"append\"\n",
    "    \n",
    "    user = \"SA\"\n",
    "    pwd = \"ploi?H8597\"\n",
    "    db = \"STAGE_TABLES_DB_1\"\n",
    "    server = \"gordonswsmaster\"\n",
    "    driver = \"ODBC+Driver+17+for+SQL+Server\"\n",
    "    engine_str = f\"mssql+pyodbc://{user}:{pwd}@{server}/{db}?driver={driver}\"\n",
    "    engine = create_engine(engine_str)\n",
    "    \n",
    "    df_shape = df.shape\n",
    "    num_row = df_shape[0]\n",
    "    \n",
    "    for i in range(num_row):\n",
    "        try:\n",
    "            df_1 = df.iloc[[i]]\n",
    "            df_1.to_sql(name=tablename, con=engine, schema=sch, if_exists=status, dtype={\n",
    "                'Job No': Numeric(20, 5),\n",
    "                'Date': Date(),\n",
    "                'Schd Time Start': String(length=350),\n",
    "                'Schd Time End': String(length=350),\n",
    "                'Latitude': Numeric(20, 7),\n",
    "                'Longitude': Numeric(20, 7),\n",
    "                'Customer number': Numeric(20, 5),\n",
    "                'Customer Name': String(length=800),\n",
    "                'Site Name': String(length=800),\n",
    "                'Address 1': String(length=1200),\n",
    "                'Address 2': String(length=1200),\n",
    "                'City': String(length=500),\n",
    "                'State': String(length=30),\n",
    "                'PostCode': Integer(),\n",
    "                'Zone': String(length=500),\n",
    "                'Phone': String(length=600),\n",
    "                'Qty Scheduled': SmallInteger(),\n",
    "                'Qty Serviced': SmallInteger(),\n",
    "                'Serv Type': String(length=600),\n",
    "                'Container Type': String(length=20),\n",
    "                'Bin Volume': Float(precision=5),\n",
    "                'Status': String(length=5),\n",
    "                'Truck number': String(length=50),\n",
    "                'Route number': String(length=50),\n",
    "                'Generate ID': String(length=500),\n",
    "                'Initial Entry Date': String(length=350),\n",
    "                'Weight': Float(precision=5),\n",
    "                'Prorated Weight': Float(precision=5),\n",
    "                'Booking Reference 1': String(length=200),\n",
    "                'Booking Reference 2': String(length=200),\n",
    "                'Alternate Ref No 1': String(length=200),\n",
    "                'Alternate Ref No 2': String(length=200),\n",
    "                'Alternate Service Ref 1': String(length=200),\n",
    "                'Alternate Service Ref 2': String(length=200),\n",
    "                'Notes': Text(length=8000),\n",
    "                'Directions': Text(length=8000),\n",
    "                'CheckLists': String(length=300),\n",
    "                'Waste Type': String(length=350),\n",
    "                'Tip Site': String(length=450),\n",
    "                'Price': Numeric(8, 3),\n",
    "                'PO': String(length=200)\n",
    "            })\n",
    "        \n",
    "        except Exception:\n",
    "            print(Exception)\n",
    "            print(df_1['Job No'])\n",
    "            \n",
    "    "
   ]
  },
  {
   "cell_type": "code",
   "execution_count": null,
   "metadata": {},
   "outputs": [
    {
     "name": "stdout",
     "output_type": "stream",
     "text": [
      "/media/sf_ubuntuShareDrive/Datasets/test_db/Large_5.csv\n"
     ]
    }
   ],
   "source": [
    "PATH = f\"/media/sf_ubuntuShareDrive/Datasets/test_db/Large_5.csv\"\n",
    "inspect_row_error(PATH)"
   ]
  },
  {
   "cell_type": "code",
   "execution_count": 7,
   "metadata": {},
   "outputs": [],
   "source": [
    "error_path = f\"/media/sf_ubuntuShareDrive/Datasets/test_db/Large_5.csv\"\n",
    "df = (\n",
    "            pd\n",
    "             .read_csv(\n",
    "                       error_path,\n",
    "                       dtype={\n",
    "                           \"Schd Time Start\" : str,\n",
    "                           \"PO\": str,\n",
    "                           \"Route number\" : str},\n",
    "                       encoding='iso8859')\n",
    "    )"
   ]
  },
  {
   "cell_type": "code",
   "execution_count": 8,
   "metadata": {},
   "outputs": [
    {
     "data": {
      "text/plain": [
       "(313269, 41)"
      ]
     },
     "execution_count": 8,
     "metadata": {},
     "output_type": "execute_result"
    }
   ],
   "source": [
    "df.shape"
   ]
  },
  {
   "cell_type": "code",
   "execution_count": 20,
   "metadata": {},
   "outputs": [
    {
     "data": {
      "text/plain": [
       "10442"
      ]
     },
     "execution_count": 20,
     "metadata": {},
     "output_type": "execute_result"
    }
   ],
   "source": [
    "round(313269/30)\n"
   ]
  },
  {
   "cell_type": "code",
   "execution_count": 8,
   "metadata": {},
   "outputs": [
    {
     "name": "stdout",
     "output_type": "stream",
     "text": [
      "0 10445\n",
      "10445 20890\n",
      "20890 31335\n",
      "31335 41780\n",
      "41780 52225\n",
      "52225 62670\n",
      "62670 73115\n",
      "73115 83560\n",
      "83560 94005\n",
      "94005 104450\n",
      "104450 114895\n",
      "114895 125340\n",
      "125340 135785\n",
      "135785 146230\n",
      "146230 156675\n",
      "156675 167120\n",
      "167120 177565\n",
      "177565 188010\n",
      "188010 198455\n",
      "198455 208900\n",
      "208900 219345\n",
      "219345 229790\n",
      "229790 240235\n",
      "240235 250680\n",
      "250680 261125\n",
      "261125 271570\n",
      "271570 282015\n",
      "282015 292460\n",
      "292460 302905\n",
      "302905 313350\n"
     ]
    }
   ],
   "source": [
    "\n",
    "z = 0\n",
    "j = 10445\n",
    "x = 10445\n",
    "for i in range(30):\n",
    "    print(f\"{z} {j}\")\n",
    "    df_1 = df[z:j]\n",
    "    PATH = f\"/media/sf_ubuntuShareDrive/Datasets/test_db/Large_error_ds/{i}.csv\"\n",
    "    df_1.to_csv(PATH, index=False)\n",
    "    z += x\n",
    "    j += x \n",
    "    \n",
    "    "
   ]
  },
  {
   "cell_type": "code",
   "execution_count": null,
   "metadata": {},
   "outputs": [
    {
     "name": "stdout",
     "output_type": "stream",
     "text": [
      "/media/sf_ubuntuShareDrive/Datasets/test_db/Large_error_ds/0.csv\n"
     ]
    }
   ],
   "source": [
    "PATH_0 = f\"/media/sf_ubuntuShareDrive/Datasets/test_db/Large_error_ds/0.csv\"\n",
    "PATH_1 = f\"/media/sf_ubuntuShareDrive/Datasets/test_db/Large_error_ds/1.csv\"\n",
    "PATH_2 = f\"/media/sf_ubuntuShareDrive/Datasets/test_db/Large_error_ds/2.csv\"\n",
    "PATH_3 = f\"/media/sf_ubuntuShareDrive/Datasets/test_db/Large_error_ds/3.csv\"\n",
    "PATH_4 = f\"/media/sf_ubuntuShareDrive/Datasets/test_db/Large_error_ds/4.csv\"\n",
    "PATH_5 = f\"/media/sf_ubuntuShareDrive/Datasets/test_db/Large_error_ds/5.csv\"\n",
    "PATH_6 = f\"/media/sf_ubuntuShareDrive/Datasets/test_db/Large_error_ds/6.csv\"\n",
    "\n",
    "inspect_row_error(PATH_0)\n",
    "inspect_row_error(PATH_1)\n",
    "inspect_row_error(PATH_2)\n",
    "inspect_row_error(PATH_3)\n",
    "inspect_row_error(PATH_4)\n",
    "inspect_row_error(PATH_5)\n",
    "inspect_row_error(PATH_6)\n"
   ]
  },
  {
   "cell_type": "code",
   "execution_count": null,
   "metadata": {},
   "outputs": [],
   "source": [
    "PATH_7 = f\"/media/sf_ubuntuShareDrive/Datasets/test_db/Large_error_ds/7.csv\"\n",
    "PATH_8 = f\"/media/sf_ubuntuShareDrive/Datasets/test_db/Large_error_ds/8.csv\"\n",
    "PATH_9 = f\"/media/sf_ubuntuShareDrive/Datasets/test_db/Large_error_ds/9.csv\"\n",
    "PATH_10 = f\"/media/sf_ubuntuShareDrive/Datasets/test_db/Large_error_ds/10.csv\"\n",
    "PATH_11 = f\"/media/sf_ubuntuShareDrive/Datasets/test_db/Large_error_ds/11.csv\"\n",
    "PATH_12 = f\"/media/sf_ubuntuShareDrive/Datasets/test_db/Large_error_ds/6.csv\"\n",
    "\n",
    "inspect_row_error(PATH_0)\n",
    "inspect_row_error(PATH_0)\n",
    "inspect_row_error(PATH_0)\n",
    "inspect_row_error(PATH_0)\n",
    "inspect_row_error(PATH_0)\n"
   ]
  },
  {
   "cell_type": "code",
   "execution_count": null,
   "metadata": {},
   "outputs": [],
   "source": [
    "PATH_13 = f\"/media/sf_ubuntuShareDrive/Datasets/test_db/Large_error_ds/6.csv\"\n",
    "PATH_14 = f\"/media/sf_ubuntuShareDrive/Datasets/test_db/Large_error_ds/6.csv\"\n",
    "PATH_15 = f\"/media/sf_ubuntuShareDrive/Datasets/test_db/Large_error_ds/6.csv\"\n",
    "PATH_16 = f\"/media/sf_ubuntuShareDrive/Datasets/test_db/Large_error_ds/6.csv\"\n",
    "PATH_17 = f\"/media/sf_ubuntuShareDrive/Datasets/test_db/Large_error_ds/6.csv\"\n"
   ]
  },
  {
   "cell_type": "code",
   "execution_count": null,
   "metadata": {},
   "outputs": [],
   "source": [
    "PATH_6 = f\"/media/sf_ubuntuShareDrive/Datasets/test_db/Large_error_ds/6.csv\"\n",
    "PATH_6 = f\"/media/sf_ubuntuShareDrive/Datasets/test_db/Large_error_ds/6.csv\"\n",
    "PATH_6 = f\"/media/sf_ubuntuShareDrive/Datasets/test_db/Large_error_ds/6.csv\"\n",
    "PATH_6 = f\"/media/sf_ubuntuShareDrive/Datasets/test_db/Large_error_ds/6.csv\"\n",
    "PATH_6 = f\"/media/sf_ubuntuShareDrive/Datasets/test_db/Large_error_ds/6.csv\"\n",
    "PATH_6 = f\"/media/sf_ubuntuShareDrive/Datasets/test_db/Large_error_ds/6.csv\"\n",
    "PATH_6 = f\"/media/sf_ubuntuShareDrive/Datasets/test_db/Large_error_ds/6.csv\"\n",
    "PATH_6 = f\"/media/sf_ubuntuShareDrive/Datasets/test_db/Large_error_ds/6.csv\"\n"
   ]
  },
  {
   "cell_type": "code",
   "execution_count": null,
   "metadata": {},
   "outputs": [],
   "source": []
  },
  {
   "cell_type": "code",
   "execution_count": null,
   "metadata": {},
   "outputs": [],
   "source": []
  },
  {
   "cell_type": "code",
   "execution_count": null,
   "metadata": {},
   "outputs": [],
   "source": []
  },
  {
   "cell_type": "code",
   "execution_count": null,
   "metadata": {},
   "outputs": [],
   "source": []
  },
  {
   "cell_type": "code",
   "execution_count": null,
   "metadata": {},
   "outputs": [],
   "source": []
  },
  {
   "cell_type": "code",
   "execution_count": null,
   "metadata": {},
   "outputs": [],
   "source": []
  },
  {
   "cell_type": "code",
   "execution_count": null,
   "metadata": {},
   "outputs": [],
   "source": []
  },
  {
   "cell_type": "code",
   "execution_count": null,
   "metadata": {},
   "outputs": [],
   "source": []
  }
 ],
 "metadata": {
  "kernelspec": {
   "display_name": "Python 3",
   "language": "python",
   "name": "python3"
  },
  "language_info": {
   "codemirror_mode": {
    "name": "ipython",
    "version": 3
   },
   "file_extension": ".py",
   "mimetype": "text/x-python",
   "name": "python",
   "nbconvert_exporter": "python",
   "pygments_lexer": "ipython3",
   "version": "3.8.5"
  }
 },
 "nbformat": 4,
 "nbformat_minor": 4
}
